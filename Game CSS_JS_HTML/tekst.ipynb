{
 "cells": [
  {
   "cell_type": "code",
   "execution_count": 3,
   "metadata": {},
   "outputs": [],
   "source": [
    "# AOA --> 70%\n",
    "# B20 --> 90%\n",
    "# AOA --> B20 is de regel over het algemeen. Uit data halen. Opnameduur op B20 = mutatietijden van AOA - B20.\n",
    "# Meerpersoons --> eenspersoons in geval van verslechtering\n",
    "# Isolatie --> negatief testen mag weer bij de afdeling --> groep\n",
    "# Groep --> symptomen --> isolatie\n",
    "# Mutatieduur voor B20 bij elkaar.\n",
    "# Beginnen met gemiddelde vanuit daar steeds meer variabelen toe gaan voegen."
   ]
  },
  {
   "cell_type": "code",
   "execution_count": 4,
   "metadata": {},
   "outputs": [],
   "source": [
    "# Oliver een video opsturen met de uitleg van simulatie waar we staan ipv fysiek aanwezig.\n",
    "# Individuele voortgang "
   ]
  },
  {
   "cell_type": "code",
   "execution_count": null,
   "metadata": {},
   "outputs": [],
   "source": [
    "# Rolverdelingen: Coderen, Analyseren, Simuleren, Documenteren, etc."
   ]
  },
  {
   "cell_type": "markdown",
   "metadata": {},
   "source": [
    "Leonardo.ai\n",
    "\n",
    "Midjourney\n"
   ]
  },
  {
   "cell_type": "markdown",
   "metadata": {},
   "source": []
  }
 ],
 "metadata": {
  "kernelspec": {
   "display_name": "Python 3",
   "language": "python",
   "name": "python3"
  },
  "language_info": {
   "codemirror_mode": {
    "name": "ipython",
    "version": 3
   },
   "file_extension": ".py",
   "mimetype": "text/x-python",
   "name": "python",
   "nbconvert_exporter": "python",
   "pygments_lexer": "ipython3",
   "version": "3.12.2"
  }
 },
 "nbformat": 4,
 "nbformat_minor": 2
}
